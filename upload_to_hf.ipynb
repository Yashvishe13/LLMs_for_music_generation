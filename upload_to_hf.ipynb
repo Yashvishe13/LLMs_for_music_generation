{
 "cells": [
  {
   "cell_type": "code",
   "execution_count": 28,
   "metadata": {},
   "outputs": [],
   "source": [
    "import os\n",
    "import pandas as pd\n",
    "import numpy as np\n"
   ]
  },
  {
   "cell_type": "code",
   "execution_count": 36,
   "metadata": {},
   "outputs": [
    {
     "name": "stdout",
     "output_type": "stream",
     "text": [
      "['/Users/yav13/Work/LLM_for_music_generation/Dataset/YFDjc.wav(4).wav', '/Users/yav13/Work/LLM_for_music_generation/Dataset/PWXoxH4fpS0.wav(17).wav', '/Users/yav13/Work/LLM_for_music_generation/Dataset/BRQ.wav(7).wav', '/Users/yav13/Work/LLM_for_music_generation/Dataset/u0MjrLpZZqE.wav(3).wav', '/Users/yav13/Work/LLM_for_music_generation/Dataset/2xZAU.wav(4).wav', '/Users/yav13/Work/LLM_for_music_generation/Dataset/by4USgMmICE.wav(9).wav', '/Users/yav13/Work/LLM_for_music_generation/Dataset/mC3pjQaWimw.wav(3).wav', '/Users/yav13/Work/LLM_for_music_generation/Dataset/HonTSd3tRIU.wav(7).wav', '/Users/yav13/Work/LLM_for_music_generation/Dataset/u0MjrLpZZqE.wav(48).wav', '/Users/yav13/Work/LLM_for_music_generation/Dataset/u0MjrLpZZqE.wav(33).wav', '/Users/yav13/Work/LLM_for_music_generation/Dataset/I0hTOvI.wav(14).wav', '/Users/yav13/Work/LLM_for_music_generation/Dataset/uklFr.wav(7).wav', '/Users/yav13/Work/LLM_for_music_generation/Dataset/32_-DKd2gV88ik.wav(8).wav', '/Users/yav13/Work/LLM_for_music_generation/Dataset/I0hTOvI.wav(5).wav', '/Users/yav13/Work/LLM_for_music_generation/Dataset/oAxoZVIXnP0.wav(1).wav', '/Users/yav13/Work/LLM_for_music_generation/Dataset/IUhhHkbBYjM.wav(1).wav', '/Users/yav13/Work/LLM_for_music_generation/Dataset/u0MjrLpZZqE.wav(25).wav', '/Users/yav13/Work/LLM_for_music_generation/Dataset/UyjWR8MXWU8.wav(2).wav', '/Users/yav13/Work/LLM_for_music_generation/Dataset/WbdXlJqTm.wav(9).wav', '/Users/yav13/Work/LLM_for_music_generation/Dataset/YSY.wav(1).wav', '/Users/yav13/Work/LLM_for_music_generation/Dataset/YFDjc.wav(8).wav', '/Users/yav13/Work/LLM_for_music_generation/Dataset/u0MjrLpZZqE.wav(52).wav', '/Users/yav13/Work/LLM_for_music_generation/Dataset/2xZAU.wav(8).wav', '/Users/yav13/Work/LLM_for_music_generation/Dataset/by4USgMmICE.wav(5).wav', '/Users/yav13/Work/LLM_for_music_generation/Dataset/7QEYoo9M7F8.wav(7).wav', '/Users/yav13/Work/LLM_for_music_generation/Dataset/fX3M6B9nP3A.wav(2).wav', '/Users/yav13/Work/LLM_for_music_generation/Dataset/8xMH97CxGzY.wav(7).wav', '/Users/yav13/Work/LLM_for_music_generation/Dataset/u0MjrLpZZqE.wav(13).wav', '/Users/yav13/Work/LLM_for_music_generation/Dataset/PWXoxH4fpS0.wav(7).wav', '/Users/yav13/Work/LLM_for_music_generation/Dataset/u0MjrLpZZqE.wav(44).wav', '/Users/yav13/Work/LLM_for_music_generation/Dataset/hv0ua.wav(12).wav', '/Users/yav13/Work/LLM_for_music_generation/Dataset/32_-DKd2gV88ik.wav(4).wav', '/Users/yav13/Work/LLM_for_music_generation/Dataset/Nf6jQhBF5es.wav(4).wav', '/Users/yav13/Work/LLM_for_music_generation/Dataset/t3gmbHB.wav(1).wav', '/Users/yav13/Work/LLM_for_music_generation/Dataset/O7CISHZ4AX8.wav(6).wav', '/Users/yav13/Work/LLM_for_music_generation/Dataset/I0hTOvI.wav(9).wav', '/Users/yav13/Work/LLM_for_music_generation/Dataset/mvy2dcYDwQ4.wav(3).wav', '/Users/yav13/Work/LLM_for_music_generation/Dataset/PWXoxH4fpS0.wav(21).wav', '/Users/yav13/Work/LLM_for_music_generation/Dataset/H3r2VAvsHC4.wav(6).wav', '/Users/yav13/Work/LLM_for_music_generation/Dataset/t4Wjrssbob8.wav(2).wav', '/Users/yav13/Work/LLM_for_music_generation/Dataset/LAe6zwJojPg.wav(2).wav', '/Users/yav13/Work/LLM_for_music_generation/Dataset/WbdXlJqTm.wav(5).wav', '/Users/yav13/Work/LLM_for_music_generation/Dataset/u0MjrLpZZqE.wav(29).wav', '/Users/yav13/Work/LLM_for_music_generation/Dataset/u0MjrLpZZqE.wav(28).wav', '/Users/yav13/Work/LLM_for_music_generation/Dataset/WbdXlJqTm.wav(4).wav', '/Users/yav13/Work/LLM_for_music_generation/Dataset/H3r2VAvsHC4.wav(7).wav', '/Users/yav13/Work/LLM_for_music_generation/Dataset/t4Wjrssbob8.wav(3).wav', '/Users/yav13/Work/LLM_for_music_generation/Dataset/LAe6zwJojPg.wav(3).wav', '/Users/yav13/Work/LLM_for_music_generation/Dataset/mvy2dcYDwQ4.wav(2).wav', '/Users/yav13/Work/LLM_for_music_generation/Dataset/PWXoxH4fpS0.wav(20).wav', '/Users/yav13/Work/LLM_for_music_generation/Dataset/O7CISHZ4AX8.wav(7).wav', '/Users/yav13/Work/LLM_for_music_generation/Dataset/I0hTOvI.wav(8).wav', '/Users/yav13/Work/LLM_for_music_generation/Dataset/32_-DKd2gV88ik.wav(5).wav', '/Users/yav13/Work/LLM_for_music_generation/Dataset/Nf6jQhBF5es.wav(5).wav', '/Users/yav13/Work/LLM_for_music_generation/Dataset/u0MjrLpZZqE.wav(45).wav', '/Users/yav13/Work/LLM_for_music_generation/Dataset/qt.wav(1).wav', '/Users/yav13/Work/LLM_for_music_generation/Dataset/PWXoxH4fpS0.wav(6).wav', '/Users/yav13/Work/LLM_for_music_generation/Dataset/8xMH97CxGzY.wav(6).wav', '/Users/yav13/Work/LLM_for_music_generation/Dataset/u0MjrLpZZqE.wav(12).wav', '/Users/yav13/Work/LLM_for_music_generation/Dataset/7QEYoo9M7F8.wav(6).wav', '/Users/yav13/Work/LLM_for_music_generation/Dataset/fX3M6B9nP3A.wav(3).wav', '/Users/yav13/Work/LLM_for_music_generation/Dataset/2xZAU.wav(9).wav', '/Users/yav13/Work/LLM_for_music_generation/Dataset/NCtr6zKDoX4.wav(1).wav', '/Users/yav13/Work/LLM_for_music_generation/Dataset/by4USgMmICE.wav(4).wav', '/Users/yav13/Work/LLM_for_music_generation/Dataset/YFDjc.wav(9).wav', '/Users/yav13/Work/LLM_for_music_generation/Dataset/u0MjrLpZZqE.wav(53).wav', '/Users/yav13/Work/LLM_for_music_generation/Dataset/UyjWR8MXWU8.wav(3).wav', '/Users/yav13/Work/LLM_for_music_generation/Dataset/UyjWR8MXWU8.wav(14).wav', '/Users/yav13/Work/LLM_for_music_generation/Dataset/WbdXlJqTm.wav(8).wav', '/Users/yav13/Work/LLM_for_music_generation/Dataset/u0MjrLpZZqE.wav(24).wav', '/Users/yav13/Work/LLM_for_music_generation/Dataset/I0hTOvI.wav(4).wav', '/Users/yav13/Work/LLM_for_music_generation/Dataset/tomYk5yjT5k.wav(1).wav', '/Users/yav13/Work/LLM_for_music_generation/Dataset/uklFr.wav(6).wav', '/Users/yav13/Work/LLM_for_music_generation/Dataset/32_-DKd2gV88ik.wav(9).wav', '/Users/yav13/Work/LLM_for_music_generation/Dataset/u0MjrLpZZqE.wav(32).wav', '/Users/yav13/Work/LLM_for_music_generation/Dataset/I0hTOvI.wav(15).wav', '/Users/yav13/Work/LLM_for_music_generation/Dataset/u0MjrLpZZqE.wav(49).wav', '/Users/yav13/Work/LLM_for_music_generation/Dataset/HonTSd3tRIU.wav(6).wav', '/Users/yav13/Work/LLM_for_music_generation/Dataset/mC3pjQaWimw.wav(2).wav', '/Users/yav13/Work/LLM_for_music_generation/Dataset/2xZAU.wav(5).wav', '/Users/yav13/Work/LLM_for_music_generation/Dataset/hv0ua.wav(1).wav', '/Users/yav13/Work/LLM_for_music_generation/Dataset/by4USgMmICE.wav(8).wav', '/Users/yav13/Work/LLM_for_music_generation/Dataset/vbzPbsUmVrw.wav(1).wav', '/Users/yav13/Work/LLM_for_music_generation/Dataset/RgKAFK5djSk.wav(1).wav', '/Users/yav13/Work/LLM_for_music_generation/Dataset/BRQ.wav(6).wav', '/Users/yav13/Work/LLM_for_music_generation/Dataset/u0MjrLpZZqE.wav(2).wav', '/Users/yav13/Work/LLM_for_music_generation/Dataset/YFDjc.wav(5).wav', '/Users/yav13/Work/LLM_for_music_generation/Dataset/PWXoxH4fpS0.wav(16).wav', '/Users/yav13/Work/LLM_for_music_generation/Dataset/u0MjrLpZZqE.wav(9).wav', '/Users/yav13/Work/LLM_for_music_generation/Dataset/u0MjrLpZZqE.wav(54).wav', '/Users/yav13/Work/LLM_for_music_generation/Dataset/NCtr6zKDoX4.wav(6).wav', '/Users/yav13/Work/LLM_for_music_generation/Dataset/by4USgMmICE.wav(3).wav', '/Users/yav13/Work/LLM_for_music_generation/Dataset/7QEYoo9M7F8.wav(1).wav', '/Users/yav13/Work/LLM_for_music_generation/Dataset/oAxoZVIXnP0.wav(10).wav', '/Users/yav13/Work/LLM_for_music_generation/Dataset/8xMH97CxGzY.wav(1).wav', '/Users/yav13/Work/LLM_for_music_generation/Dataset/mC3pjQaWimw.wav(9).wav', '/Users/yav13/Work/LLM_for_music_generation/Dataset/u0MjrLpZZqE.wav(15).wav', '/Users/yav13/Work/LLM_for_music_generation/Dataset/qt.wav(6).wav', '/Users/yav13/Work/LLM_for_music_generation/Dataset/PWXoxH4fpS0.wav(1).wav', '/Users/yav13/Work/LLM_for_music_generation/Dataset/u0MjrLpZZqE.wav(42).wav', '/Users/yav13/Work/LLM_for_music_generation/Dataset/Nf6jQhBF5es.wav(2).wav', '/Users/yav13/Work/LLM_for_music_generation/Dataset/32_-DKd2gV88ik.wav(2).wav', '/Users/yav13/Work/LLM_for_music_generation/Dataset/u0MjrLpZZqE.wav(39).wav', '/Users/yav13/Work/LLM_for_music_generation/Dataset/HonTSd3tRIU.wav(13).wav', '/Users/yav13/Work/LLM_for_music_generation/Dataset/KidVKopnyZU.wav(3).wav', '/Users/yav13/Work/LLM_for_music_generation/Dataset/mvy2dcYDwQ4.wav(5).wav', '/Users/yav13/Work/LLM_for_music_generation/Dataset/t4Wjrssbob8.wav(4).wav', '/Users/yav13/Work/LLM_for_music_generation/Dataset/LAe6zwJojPg.wav(4).wav', '/Users/yav13/Work/LLM_for_music_generation/Dataset/UyjWR8MXWU8.wav(8).wav', '/Users/yav13/Work/LLM_for_music_generation/Dataset/WbdXlJqTm.wav(3).wav', '/Users/yav13/Work/LLM_for_music_generation/Dataset/PWXoxH4fpS0.wav(11).wav', '/Users/yav13/Work/LLM_for_music_generation/Dataset/YFDjc.wav(2).wav', '/Users/yav13/Work/LLM_for_music_generation/Dataset/u0MjrLpZZqE.wav(58).wav', '/Users/yav13/Work/LLM_for_music_generation/Dataset/RgKAFK5djSk.wav(6).wav', '/Users/yav13/Work/LLM_for_music_generation/Dataset/u0MjrLpZZqE.wav(5).wav', '/Users/yav13/Work/LLM_for_music_generation/Dataset/BRQ.wav(1).wav', '/Users/yav13/Work/LLM_for_music_generation/Dataset/2xZAU.wav(2).wav', '/Users/yav13/Work/LLM_for_music_generation/Dataset/vbzPbsUmVrw.wav(6).wav', '/Users/yav13/Work/LLM_for_music_generation/Dataset/hv0ua.wav(6).wav', '/Users/yav13/Work/LLM_for_music_generation/Dataset/mC3pjQaWimw.wav(5).wav', '/Users/yav13/Work/LLM_for_music_generation/Dataset/u0MjrLpZZqE.wav(19).wav', '/Users/yav13/Work/LLM_for_music_generation/Dataset/HonTSd3tRIU.wav(1).wav', '/Users/yav13/Work/LLM_for_music_generation/Dataset/8n.wav(1).wav', '/Users/yav13/Work/LLM_for_music_generation/Dataset/u0MjrLpZZqE.wav(35).wav', '/Users/yav13/Work/LLM_for_music_generation/Dataset/I0hTOvI.wav(12).wav', '/Users/yav13/Work/LLM_for_music_generation/Dataset/uklFr.wav(1).wav', '/Users/yav13/Work/LLM_for_music_generation/Dataset/mvy2dcYDwQ4.wav(9).wav', '/Users/yav13/Work/LLM_for_music_generation/Dataset/tomYk5yjT5k.wav(6).wav', '/Users/yav13/Work/LLM_for_music_generation/Dataset/I0hTOvI.wav(3).wav', '/Users/yav13/Work/LLM_for_music_generation/Dataset/oAxoZVIXnP0.wav(7).wav', '/Users/yav13/Work/LLM_for_music_generation/Dataset/LAe6zwJojPg.wav(8).wav', '/Users/yav13/Work/LLM_for_music_generation/Dataset/IUhhHkbBYjM.wav(7).wav', '/Users/yav13/Work/LLM_for_music_generation/Dataset/u0MjrLpZZqE.wav(23).wav', '/Users/yav13/Work/LLM_for_music_generation/Dataset/UyjWR8MXWU8.wav(4).wav', '/Users/yav13/Work/LLM_for_music_generation/Dataset/UyjWR8MXWU8.wav(13).wav', '/Users/yav13/Work/LLM_for_music_generation/Dataset/UyjWR8MXWU8.wav(5).wav', '/Users/yav13/Work/LLM_for_music_generation/Dataset/UyjWR8MXWU8.wav(12).wav', '/Users/yav13/Work/LLM_for_music_generation/Dataset/u0MjrLpZZqE.wav(22).wav', '/Users/yav13/Work/LLM_for_music_generation/Dataset/LAe6zwJojPg.wav(9).wav', '/Users/yav13/Work/LLM_for_music_generation/Dataset/IUhhHkbBYjM.wav(6).wav', '/Users/yav13/Work/LLM_for_music_generation/Dataset/oAxoZVIXnP0.wav(6).wav', '/Users/yav13/Work/LLM_for_music_generation/Dataset/I0hTOvI.wav(2).wav', '/Users/yav13/Work/LLM_for_music_generation/Dataset/mvy2dcYDwQ4.wav(8).wav', '/Users/yav13/Work/LLM_for_music_generation/Dataset/tomYk5yjT5k.wav(7).wav', '/Users/yav13/Work/LLM_for_music_generation/Dataset/gcVY.wav(1).wav', '/Users/yav13/Work/LLM_for_music_generation/Dataset/u0MjrLpZZqE.wav(34).wav', '/Users/yav13/Work/LLM_for_music_generation/Dataset/I0hTOvI.wav(13).wav', '/Users/yav13/Work/LLM_for_music_generation/Dataset/mC3pjQaWimw.wav(4).wav', '/Users/yav13/Work/LLM_for_music_generation/Dataset/u0MjrLpZZqE.wav(18).wav', '/Users/yav13/Work/LLM_for_music_generation/Dataset/2xZAU.wav(3).wav', '/Users/yav13/Work/LLM_for_music_generation/Dataset/vbzPbsUmVrw.wav(7).wav', '/Users/yav13/Work/LLM_for_music_generation/Dataset/hv0ua.wav(7).wav', '/Users/yav13/Work/LLM_for_music_generation/Dataset/RgKAFK5djSk.wav(7).wav', '/Users/yav13/Work/LLM_for_music_generation/Dataset/u0MjrLpZZqE.wav(4).wav', '/Users/yav13/Work/LLM_for_music_generation/Dataset/PWXoxH4fpS0.wav(10).wav', '/Users/yav13/Work/LLM_for_music_generation/Dataset/YFDjc.wav(3).wav', '/Users/yav13/Work/LLM_for_music_generation/Dataset/u0MjrLpZZqE.wav(59).wav', '/Users/yav13/Work/LLM_for_music_generation/Dataset/UyjWR8MXWU8.wav(9).wav', '/Users/yav13/Work/LLM_for_music_generation/Dataset/WbdXlJqTm.wav(2).wav', '/Users/yav13/Work/LLM_for_music_generation/Dataset/H3r2VAvsHC4.wav(1).wav', '/Users/yav13/Work/LLM_for_music_generation/Dataset/t4Wjrssbob8.wav(5).wav', '/Users/yav13/Work/LLM_for_music_generation/Dataset/LAe6zwJojPg.wav(5).wav', '/Users/yav13/Work/LLM_for_music_generation/Dataset/KidVKopnyZU.wav(2).wav', '/Users/yav13/Work/LLM_for_music_generation/Dataset/mvy2dcYDwQ4.wav(4).wav', '/Users/yav13/Work/LLM_for_music_generation/Dataset/O7CISHZ4AX8.wav(1).wav', '/Users/yav13/Work/LLM_for_music_generation/Dataset/HonTSd3tRIU.wav(12).wav', '/Users/yav13/Work/LLM_for_music_generation/Dataset/u0MjrLpZZqE.wav(38).wav', '/Users/yav13/Work/LLM_for_music_generation/Dataset/Nf6jQhBF5es.wav(3).wav', '/Users/yav13/Work/LLM_for_music_generation/Dataset/32_-DKd2gV88ik.wav(3).wav', '/Users/yav13/Work/LLM_for_music_generation/Dataset/u0MjrLpZZqE.wav(43).wav', '/Users/yav13/Work/LLM_for_music_generation/Dataset/qt.wav(7).wav', '/Users/yav13/Work/LLM_for_music_generation/Dataset/vv5AGs.wav(1).wav', '/Users/yav13/Work/LLM_for_music_generation/Dataset/LAe6zwJojPg.wav(12).wav', '/Users/yav13/Work/LLM_for_music_generation/Dataset/mC3pjQaWimw.wav(8).wav', '/Users/yav13/Work/LLM_for_music_generation/Dataset/u0MjrLpZZqE.wav(14).wav', '/Users/yav13/Work/LLM_for_music_generation/Dataset/NCtr6zKDoX4.wav(7).wav', '/Users/yav13/Work/LLM_for_music_generation/Dataset/by4USgMmICE.wav(2).wav', '/Users/yav13/Work/LLM_for_music_generation/Dataset/u0MjrLpZZqE.wav(55).wav', '/Users/yav13/Work/LLM_for_music_generation/Dataset/u0MjrLpZZqE.wav(8).wav', '/Users/yav13/Work/LLM_for_music_generation/Dataset/WbdXlJqTm.wav(1).wav', '/Users/yav13/Work/LLM_for_music_generation/Dataset/oAxoZVIXnP0.wav(9).wav', '/Users/yav13/Work/LLM_for_music_generation/Dataset/t4Wjrssbob8.wav(6).wav', '/Users/yav13/Work/LLM_for_music_generation/Dataset/LAe6zwJojPg.wav(6).wav', '/Users/yav13/Work/LLM_for_music_generation/Dataset/H3r2VAvsHC4.wav(2).wav', '/Users/yav13/Work/LLM_for_music_generation/Dataset/mvy2dcYDwQ4.wav(7).wav', '/Users/yav13/Work/LLM_for_music_generation/Dataset/tomYk5yjT5k.wav(8).wav', '/Users/yav13/Work/LLM_for_music_generation/Dataset/KidVKopnyZU.wav(1).wav', '/Users/yav13/Work/LLM_for_music_generation/Dataset/HonTSd3tRIU.wav(11).wav', '/Users/yav13/Work/LLM_for_music_generation/Dataset/O7CISHZ4AX8.wav(2).wav', '/Users/yav13/Work/LLM_for_music_generation/Dataset/u0MjrLpZZqE.wav(40).wav', '/Users/yav13/Work/LLM_for_music_generation/Dataset/PWXoxH4fpS0.wav(3).wav', '/Users/yav13/Work/LLM_for_music_generation/Dataset/qt.wav(4).wav', '/Users/yav13/Work/LLM_for_music_generation/Dataset/u0MjrLpZZqE.wav(17).wav', '/Users/yav13/Work/LLM_for_music_generation/Dataset/8xMH97CxGzY.wav(3).wav', '/Users/yav13/Work/LLM_for_music_generation/Dataset/LAe6zwJojPg.wav(11).wav', '/Users/yav13/Work/LLM_for_music_generation/Dataset/vv5AGs.wav(2).wav', '/Users/yav13/Work/LLM_for_music_generation/Dataset/7QEYoo9M7F8.wav(3).wav', '/Users/yav13/Work/LLM_for_music_generation/Dataset/vbzPbsUmVrw.wav(8).wav', '/Users/yav13/Work/LLM_for_music_generation/Dataset/by4USgMmICE.wav(1).wav', '/Users/yav13/Work/LLM_for_music_generation/Dataset/hv0ua.wav(8).wav', '/Users/yav13/Work/LLM_for_music_generation/Dataset/NCtr6zKDoX4.wav(4).wav', '/Users/yav13/Work/LLM_for_music_generation/Dataset/u0MjrLpZZqE.wav(56).wav', '/Users/yav13/Work/LLM_for_music_generation/Dataset/RgKAFK5djSk.wav(8).wav', '/Users/yav13/Work/LLM_for_music_generation/Dataset/UyjWR8MXWU8.wav(6).wav', '/Users/yav13/Work/LLM_for_music_generation/Dataset/UyjWR8MXWU8.wav(11).wav', '/Users/yav13/Work/LLM_for_music_generation/Dataset/u0MjrLpZZqE.wav(21).wav', '/Users/yav13/Work/LLM_for_music_generation/Dataset/IUhhHkbBYjM.wav(5).wav', '/Users/yav13/Work/LLM_for_music_generation/Dataset/oAxoZVIXnP0.wav(5).wav', '/Users/yav13/Work/LLM_for_music_generation/Dataset/I0hTOvI.wav(1).wav', '/Users/yav13/Work/LLM_for_music_generation/Dataset/tomYk5yjT5k.wav(4).wav', '/Users/yav13/Work/LLM_for_music_generation/Dataset/u0MjrLpZZqE.wav(60).wav', '/Users/yav13/Work/LLM_for_music_generation/Dataset/uklFr.wav(3).wav', '/Users/yav13/Work/LLM_for_music_generation/Dataset/I0hTOvI.wav(10).wav', '/Users/yav13/Work/LLM_for_music_generation/Dataset/gcVY.wav(2).wav', '/Users/yav13/Work/LLM_for_music_generation/Dataset/u0MjrLpZZqE.wav(37).wav', '/Users/yav13/Work/LLM_for_music_generation/Dataset/qt.wav(8).wav', '/Users/yav13/Work/LLM_for_music_generation/Dataset/HonTSd3tRIU.wav(3).wav', '/Users/yav13/Work/LLM_for_music_generation/Dataset/mC3pjQaWimw.wav(7).wav', '/Users/yav13/Work/LLM_for_music_generation/Dataset/hv0ua.wav(4).wav', '/Users/yav13/Work/LLM_for_music_generation/Dataset/vbzPbsUmVrw.wav(4).wav', '/Users/yav13/Work/LLM_for_music_generation/Dataset/NCtr6zKDoX4.wav(8).wav', '/Users/yav13/Work/LLM_for_music_generation/Dataset/u0MjrLpZZqE.wav(7).wav', '/Users/yav13/Work/LLM_for_music_generation/Dataset/U31AQyRA7tk.wav(1).wav', '/Users/yav13/Work/LLM_for_music_generation/Dataset/BRQ.wav(3).wav', '/Users/yav13/Work/LLM_for_music_generation/Dataset/RgKAFK5djSk.wav(4).wav', '/Users/yav13/Work/LLM_for_music_generation/Dataset/PWXoxH4fpS0.wav(13).wav', '/Users/yav13/Work/LLM_for_music_generation/Dataset/YFDjc.wav(1).wav', '/Users/yav13/Work/LLM_for_music_generation/Dataset/PWXoxH4fpS0.wav(12).wav', '/Users/yav13/Work/LLM_for_music_generation/Dataset/u0MjrLpZZqE.wav(6).wav', '/Users/yav13/Work/LLM_for_music_generation/Dataset/BRQ.wav(2).wav', '/Users/yav13/Work/LLM_for_music_generation/Dataset/RgKAFK5djSk.wav(5).wav', '/Users/yav13/Work/LLM_for_music_generation/Dataset/hv0ua.wav(5).wav', '/Users/yav13/Work/LLM_for_music_generation/Dataset/vbzPbsUmVrw.wav(5).wav', '/Users/yav13/Work/LLM_for_music_generation/Dataset/NCtr6zKDoX4.wav(9).wav', '/Users/yav13/Work/LLM_for_music_generation/Dataset/2xZAU.wav(1).wav', '/Users/yav13/Work/LLM_for_music_generation/Dataset/mC3pjQaWimw.wav(6).wav', '/Users/yav13/Work/LLM_for_music_generation/Dataset/HonTSd3tRIU.wav(2).wav', '/Users/yav13/Work/LLM_for_music_generation/Dataset/8n.wav(2).wav', '/Users/yav13/Work/LLM_for_music_generation/Dataset/I0hTOvI.wav(11).wav', '/Users/yav13/Work/LLM_for_music_generation/Dataset/u0MjrLpZZqE.wav(36).wav', '/Users/yav13/Work/LLM_for_music_generation/Dataset/uklFr.wav(2).wav', '/Users/yav13/Work/LLM_for_music_generation/Dataset/tomYk5yjT5k.wav(5).wav', '/Users/yav13/Work/LLM_for_music_generation/Dataset/u0MjrLpZZqE.wav(61).wav', '/Users/yav13/Work/LLM_for_music_generation/Dataset/oAxoZVIXnP0.wav(4).wav', '/Users/yav13/Work/LLM_for_music_generation/Dataset/IUhhHkbBYjM.wav(4).wav', '/Users/yav13/Work/LLM_for_music_generation/Dataset/u0MjrLpZZqE.wav(20).wav', '/Users/yav13/Work/LLM_for_music_generation/Dataset/UyjWR8MXWU8.wav(7).wav', '/Users/yav13/Work/LLM_for_music_generation/Dataset/UyjWR8MXWU8.wav(10).wav', '/Users/yav13/Work/LLM_for_music_generation/Dataset/u0MjrLpZZqE.wav(57).wav', '/Users/yav13/Work/LLM_for_music_generation/Dataset/vbzPbsUmVrw.wav(9).wav', '/Users/yav13/Work/LLM_for_music_generation/Dataset/hv0ua.wav(9).wav', '/Users/yav13/Work/LLM_for_music_generation/Dataset/NCtr6zKDoX4.wav(5).wav', '/Users/yav13/Work/LLM_for_music_generation/Dataset/7QEYoo9M7F8.wav(2).wav', '/Users/yav13/Work/LLM_for_music_generation/Dataset/u0MjrLpZZqE.wav(16).wav', '/Users/yav13/Work/LLM_for_music_generation/Dataset/8xMH97CxGzY.wav(2).wav', '/Users/yav13/Work/LLM_for_music_generation/Dataset/LAe6zwJojPg.wav(10).wav', '/Users/yav13/Work/LLM_for_music_generation/Dataset/PWXoxH4fpS0.wav(2).wav', '/Users/yav13/Work/LLM_for_music_generation/Dataset/qt.wav(5).wav', '/Users/yav13/Work/LLM_for_music_generation/Dataset/u0MjrLpZZqE.wav(41).wav', '/Users/yav13/Work/LLM_for_music_generation/Dataset/32_-DKd2gV88ik.wav(1).wav', '/Users/yav13/Work/LLM_for_music_generation/Dataset/Nf6jQhBF5es.wav(1).wav', '/Users/yav13/Work/LLM_for_music_generation/Dataset/t3gmbHB.wav(4).wav', '/Users/yav13/Work/LLM_for_music_generation/Dataset/HonTSd3tRIU.wav(10).wav', '/Users/yav13/Work/LLM_for_music_generation/Dataset/O7CISHZ4AX8.wav(3).wav', '/Users/yav13/Work/LLM_for_music_generation/Dataset/mvy2dcYDwQ4.wav(6).wav', '/Users/yav13/Work/LLM_for_music_generation/Dataset/tomYk5yjT5k.wav(9).wav', '/Users/yav13/Work/LLM_for_music_generation/Dataset/LAe6zwJojPg.wav(7).wav', '/Users/yav13/Work/LLM_for_music_generation/Dataset/IUhhHkbBYjM.wav(8).wav', '/Users/yav13/Work/LLM_for_music_generation/Dataset/H3r2VAvsHC4.wav(3).wav', '/Users/yav13/Work/LLM_for_music_generation/Dataset/oAxoZVIXnP0.wav(8).wav', '/Users/yav13/Work/LLM_for_music_generation/Dataset/u0MjrLpZZqE.wav(27).wav', '/Users/yav13/Work/LLM_for_music_generation/Dataset/IUhhHkbBYjM.wav(3).wav', '/Users/yav13/Work/LLM_for_music_generation/Dataset/H3r2VAvsHC4.wav(8).wav', '/Users/yav13/Work/LLM_for_music_generation/Dataset/oAxoZVIXnP0.wav(3).wav', '/Users/yav13/Work/LLM_for_music_generation/Dataset/I0hTOvI.wav(7).wav', '/Users/yav13/Work/LLM_for_music_generation/Dataset/O7CISHZ4AX8.wav(8).wav', '/Users/yav13/Work/LLM_for_music_generation/Dataset/tomYk5yjT5k.wav(2).wav', '/Users/yav13/Work/LLM_for_music_generation/Dataset/uklFr.wav(5).wav', '/Users/yav13/Work/LLM_for_music_generation/Dataset/I0hTOvI.wav(16).wav', '/Users/yav13/Work/LLM_for_music_generation/Dataset/u0MjrLpZZqE.wav(31).wav', '/Users/yav13/Work/LLM_for_music_generation/Dataset/PWXoxH4fpS0.wav(9).wav', '/Users/yav13/Work/LLM_for_music_generation/Dataset/HonTSd3tRIU.wav(5).wav', '/Users/yav13/Work/LLM_for_music_generation/Dataset/7QEYoo9M7F8.wav(9).wav', '/Users/yav13/Work/LLM_for_music_generation/Dataset/mC3pjQaWimw.wav(1).wav', '/Users/yav13/Work/LLM_for_music_generation/Dataset/8xMH97CxGzY.wav(9).wav', '/Users/yav13/Work/LLM_for_music_generation/Dataset/vbzPbsUmVrw.wav(2).wav', '/Users/yav13/Work/LLM_for_music_generation/Dataset/hv0ua.wav(2).wav', '/Users/yav13/Work/LLM_for_music_generation/Dataset/2xZAU.wav(6).wav', '/Users/yav13/Work/LLM_for_music_generation/Dataset/BRQ.wav(5).wav', '/Users/yav13/Work/LLM_for_music_generation/Dataset/u0MjrLpZZqE.wav(1).wav', '/Users/yav13/Work/LLM_for_music_generation/Dataset/RgKAFK5djSk.wav(2).wav', '/Users/yav13/Work/LLM_for_music_generation/Dataset/vbzPbsUmVrw.wav(10).wav', '/Users/yav13/Work/LLM_for_music_generation/Dataset/PWXoxH4fpS0.wav(15).wav', '/Users/yav13/Work/LLM_for_music_generation/Dataset/YFDjc.wav(6).wav', '/Users/yav13/Work/LLM_for_music_generation/Dataset/WbdXlJqTm.wav(7).wav', '/Users/yav13/Work/LLM_for_music_generation/Dataset/H3r2VAvsHC4.wav(4).wav', '/Users/yav13/Work/LLM_for_music_generation/Dataset/mvy2dcYDwQ4.wav(1).wav', '/Users/yav13/Work/LLM_for_music_generation/Dataset/O7CISHZ4AX8.wav(4).wav', '/Users/yav13/Work/LLM_for_music_generation/Dataset/t3gmbHB.wav(3).wav', '/Users/yav13/Work/LLM_for_music_generation/Dataset/Nf6jQhBF5es.wav(6).wav', '/Users/yav13/Work/LLM_for_music_generation/Dataset/32_-DKd2gV88ik.wav(6).wav', '/Users/yav13/Work/LLM_for_music_generation/Dataset/hv0ua.wav(10).wav', '/Users/yav13/Work/LLM_for_music_generation/Dataset/u0MjrLpZZqE.wav(46).wav', '/Users/yav13/Work/LLM_for_music_generation/Dataset/PWXoxH4fpS0.wav(5).wav', '/Users/yav13/Work/LLM_for_music_generation/Dataset/qt.wav(2).wav', '/Users/yav13/Work/LLM_for_music_generation/Dataset/u0MjrLpZZqE.wav(11).wav', '/Users/yav13/Work/LLM_for_music_generation/Dataset/8xMH97CxGzY.wav(5).wav', '/Users/yav13/Work/LLM_for_music_generation/Dataset/7QEYoo9M7F8.wav(5).wav', '/Users/yav13/Work/LLM_for_music_generation/Dataset/HonTSd3tRIU.wav(9).wav', '/Users/yav13/Work/LLM_for_music_generation/Dataset/by4USgMmICE.wav(7).wav', '/Users/yav13/Work/LLM_for_music_generation/Dataset/NCtr6zKDoX4.wav(2).wav', '/Users/yav13/Work/LLM_for_music_generation/Dataset/u0MjrLpZZqE.wav(50).wav', '/Users/yav13/Work/LLM_for_music_generation/Dataset/PWXoxH4fpS0.wav(19).wav', '/Users/yav13/Work/LLM_for_music_generation/Dataset/BRQ.wav(8).wav', '/Users/yav13/Work/LLM_for_music_generation/Dataset/u0MjrLpZZqE.wav(51).wav', '/Users/yav13/Work/LLM_for_music_generation/Dataset/PWXoxH4fpS0.wav(18).wav', '/Users/yav13/Work/LLM_for_music_generation/Dataset/by4USgMmICE.wav(6).wav', '/Users/yav13/Work/LLM_for_music_generation/Dataset/NCtr6zKDoX4.wav(3).wav', '/Users/yav13/Work/LLM_for_music_generation/Dataset/7QEYoo9M7F8.wav(4).wav', '/Users/yav13/Work/LLM_for_music_generation/Dataset/fX3M6B9nP3A.wav(1).wav', '/Users/yav13/Work/LLM_for_music_generation/Dataset/HonTSd3tRIU.wav(8).wav', '/Users/yav13/Work/LLM_for_music_generation/Dataset/u0MjrLpZZqE.wav(10).wav', '/Users/yav13/Work/LLM_for_music_generation/Dataset/8xMH97CxGzY.wav(4).wav', '/Users/yav13/Work/LLM_for_music_generation/Dataset/PWXoxH4fpS0.wav(4).wav', '/Users/yav13/Work/LLM_for_music_generation/Dataset/qt.wav(3).wav', '/Users/yav13/Work/LLM_for_music_generation/Dataset/u0MjrLpZZqE.wav(47).wav', '/Users/yav13/Work/LLM_for_music_generation/Dataset/32_-DKd2gV88ik.wav(7).wav', '/Users/yav13/Work/LLM_for_music_generation/Dataset/hv0ua.wav(11).wav', '/Users/yav13/Work/LLM_for_music_generation/Dataset/t3gmbHB.wav(2).wav', '/Users/yav13/Work/LLM_for_music_generation/Dataset/O7CISHZ4AX8.wav(5).wav', '/Users/yav13/Work/LLM_for_music_generation/Dataset/t4Wjrssbob8.wav(1).wav', '/Users/yav13/Work/LLM_for_music_generation/Dataset/LAe6zwJojPg.wav(1).wav', '/Users/yav13/Work/LLM_for_music_generation/Dataset/H3r2VAvsHC4.wav(5).wav', '/Users/yav13/Work/LLM_for_music_generation/Dataset/WbdXlJqTm.wav(6).wav', '/Users/yav13/Work/LLM_for_music_generation/Dataset/tomYk5yjT5k.wav(10).wav', '/Users/yav13/Work/LLM_for_music_generation/Dataset/PWXoxH4fpS0.wav(14).wav', '/Users/yav13/Work/LLM_for_music_generation/Dataset/YFDjc.wav(7).wav', '/Users/yav13/Work/LLM_for_music_generation/Dataset/BRQ.wav(4).wav', '/Users/yav13/Work/LLM_for_music_generation/Dataset/RgKAFK5djSk.wav(3).wav', '/Users/yav13/Work/LLM_for_music_generation/Dataset/vbzPbsUmVrw.wav(3).wav', '/Users/yav13/Work/LLM_for_music_generation/Dataset/hv0ua.wav(3).wav', '/Users/yav13/Work/LLM_for_music_generation/Dataset/2xZAU.wav(7).wav', '/Users/yav13/Work/LLM_for_music_generation/Dataset/8xMH97CxGzY.wav(8).wav', '/Users/yav13/Work/LLM_for_music_generation/Dataset/HonTSd3tRIU.wav(4).wav', '/Users/yav13/Work/LLM_for_music_generation/Dataset/7QEYoo9M7F8.wav(8).wav', '/Users/yav13/Work/LLM_for_music_generation/Dataset/PWXoxH4fpS0.wav(8).wav', '/Users/yav13/Work/LLM_for_music_generation/Dataset/u0MjrLpZZqE.wav(30).wav', '/Users/yav13/Work/LLM_for_music_generation/Dataset/uklFr.wav(4).wav', '/Users/yav13/Work/LLM_for_music_generation/Dataset/tomYk5yjT5k.wav(3).wav', '/Users/yav13/Work/LLM_for_music_generation/Dataset/I0hTOvI.wav(6).wav', '/Users/yav13/Work/LLM_for_music_generation/Dataset/O7CISHZ4AX8.wav(9).wav', '/Users/yav13/Work/LLM_for_music_generation/Dataset/oAxoZVIXnP0.wav(2).wav', '/Users/yav13/Work/LLM_for_music_generation/Dataset/IUhhHkbBYjM.wav(2).wav', '/Users/yav13/Work/LLM_for_music_generation/Dataset/u0MjrLpZZqE.wav(26).wav', '/Users/yav13/Work/LLM_for_music_generation/Dataset/UyjWR8MXWU8.wav(1).wav']\n",
      "[1, 2, 3, 4, 5, 6, 7, 8, 9, 10, 11, 12, 13, 14, 15, 16, 17, 18, 19, 20, 21, 22, 23, 24, 25, 26, 27, 28, 29, 30, 31, 32, 33, 34, 35, 36, 37, 38, 39, 40, 41, 42, 43, 44, 45, 46, 47, 48, 49, 50, 51, 52, 53, 54, 55, 56, 57, 58, 59, 60, 61, 62, 63, 64, 65, 66, 67, 68, 69, 70, 71, 72, 73, 74, 75, 76, 77, 78, 79, 80, 81, 82, 83, 84, 85, 86, 87, 88, 89, 90, 91, 92, 93, 94, 95, 96, 97, 98, 99, 100, 101, 102, 103, 104, 105, 106, 107, 108, 109, 110, 111, 112, 113, 114, 115, 116, 117, 118, 119, 120, 121, 122, 123, 124, 125, 126, 127, 128, 129, 130, 131, 132, 133, 134, 135, 136, 137, 138, 139, 140, 141, 142, 143, 144, 145, 146, 147, 148, 149, 150, 151, 152, 153, 154, 155, 156, 157, 158, 159, 160, 161, 162, 163, 164, 165, 166, 167, 168, 169, 170, 171, 172, 173, 174, 175, 176, 177, 178, 179, 180, 181, 182, 183, 184, 185, 186, 187, 188, 189, 190, 191, 192, 193, 194, 195, 196, 197, 198, 199, 200, 201, 202, 203, 204, 205, 206, 207, 208, 209, 210, 211, 212, 213, 214, 215, 216, 217, 218, 219, 220, 221, 222, 223, 224, 225, 226, 227, 228, 229, 230, 231, 232, 233, 234, 235, 236, 237, 238, 239, 240, 241, 242, 243, 244, 245, 246, 247, 248, 249, 250, 251, 252, 253, 254, 255, 256, 257, 258, 259, 260, 261, 262, 263, 264, 265, 266, 267, 268, 269, 270, 271, 272, 273, 274, 275, 276, 277, 278, 279, 280, 281, 282, 283, 284, 285, 286, 287, 288, 289, 290, 291, 292, 293, 294, 295, 296, 297, 298, 299, 300, 301, 302, 303, 304, 305, 306, 307, 308, 309, 310, 311, 312, 313, 314, 315, 316, 317, 318, 319, 320, 321, 322, 323, 324, 325, 326, 327, 328, 329, 330, 331, 332, 333, 334, 335, 336, 337, 338, 339, 340, 341, 342, 343, 344, 345, 346, 347, 348, 349, 350, 351, 352, 353, 354, 355]\n"
     ]
    },
    {
     "data": {
      "text/html": [
       "<div>\n",
       "<style scoped>\n",
       "    .dataframe tbody tr th:only-of-type {\n",
       "        vertical-align: middle;\n",
       "    }\n",
       "\n",
       "    .dataframe tbody tr th {\n",
       "        vertical-align: top;\n",
       "    }\n",
       "\n",
       "    .dataframe thead th {\n",
       "        text-align: right;\n",
       "    }\n",
       "</style>\n",
       "<table border=\"1\" class=\"dataframe\">\n",
       "  <thead>\n",
       "    <tr style=\"text-align: right;\">\n",
       "      <th></th>\n",
       "      <th>id</th>\n",
       "      <th>audio_files</th>\n",
       "    </tr>\n",
       "  </thead>\n",
       "  <tbody>\n",
       "    <tr>\n",
       "      <th>0</th>\n",
       "      <td>1</td>\n",
       "      <td>/Users/yav13/Work/LLM_for_music_generation/Dat...</td>\n",
       "    </tr>\n",
       "    <tr>\n",
       "      <th>1</th>\n",
       "      <td>2</td>\n",
       "      <td>/Users/yav13/Work/LLM_for_music_generation/Dat...</td>\n",
       "    </tr>\n",
       "    <tr>\n",
       "      <th>2</th>\n",
       "      <td>3</td>\n",
       "      <td>/Users/yav13/Work/LLM_for_music_generation/Dat...</td>\n",
       "    </tr>\n",
       "    <tr>\n",
       "      <th>3</th>\n",
       "      <td>4</td>\n",
       "      <td>/Users/yav13/Work/LLM_for_music_generation/Dat...</td>\n",
       "    </tr>\n",
       "    <tr>\n",
       "      <th>4</th>\n",
       "      <td>5</td>\n",
       "      <td>/Users/yav13/Work/LLM_for_music_generation/Dat...</td>\n",
       "    </tr>\n",
       "  </tbody>\n",
       "</table>\n",
       "</div>"
      ],
      "text/plain": [
       "   id                                        audio_files\n",
       "0   1  /Users/yav13/Work/LLM_for_music_generation/Dat...\n",
       "1   2  /Users/yav13/Work/LLM_for_music_generation/Dat...\n",
       "2   3  /Users/yav13/Work/LLM_for_music_generation/Dat...\n",
       "3   4  /Users/yav13/Work/LLM_for_music_generation/Dat...\n",
       "4   5  /Users/yav13/Work/LLM_for_music_generation/Dat..."
      ]
     },
     "execution_count": 36,
     "metadata": {},
     "output_type": "execute_result"
    }
   ],
   "source": [
    "# Path to the folder containing .wav files\n",
    "\n",
    "folder_path = str(os.getcwd()) + \"/Dataset/\"\n",
    "\n",
    "# List all .wav files in the folder\n",
    "wav_files = [str(os.getcwd()) + '/Dataset/' + f for f in os.listdir(folder_path) if f.endswith(\".wav\")]\n",
    "print(wav_files)\n",
    "\n",
    "count = list(np.arange(1,356))\n",
    "print(count)\n",
    "# Create a pandas DataFrame\n",
    "df = pd.DataFrame({\"id\": count, \"audio_files\": wav_files})\n",
    "\n",
    "# Display the dataframe\n",
    "df.head()"
   ]
  },
  {
   "cell_type": "code",
   "execution_count": 37,
   "metadata": {},
   "outputs": [
    {
     "data": {
      "text/plain": [
       "355"
      ]
     },
     "execution_count": 37,
     "metadata": {},
     "output_type": "execute_result"
    }
   ],
   "source": [
    "len(df)"
   ]
  },
  {
   "cell_type": "code",
   "execution_count": 38,
   "metadata": {},
   "outputs": [],
   "source": [
    "from datasets import Dataset, Audio"
   ]
  },
  {
   "cell_type": "code",
   "execution_count": 39,
   "metadata": {},
   "outputs": [
    {
     "data": {
      "text/plain": [
       "Dataset({\n",
       "    features: ['id', 'audio_files'],\n",
       "    num_rows: 355\n",
       "})"
      ]
     },
     "execution_count": 39,
     "metadata": {},
     "output_type": "execute_result"
    }
   ],
   "source": [
    "dataset = Dataset.from_pandas(df)\n",
    "dataset"
   ]
  },
  {
   "cell_type": "code",
   "execution_count": 40,
   "metadata": {},
   "outputs": [],
   "source": [
    "dataset = dataset.cast_column(\"audio_files\", Audio())"
   ]
  },
  {
   "cell_type": "code",
   "execution_count": 41,
   "metadata": {},
   "outputs": [],
   "source": [
    "from huggingface_hub import login\n",
    "\n",
    "login(token=\"XXX")"
   ]
  },
  {
   "cell_type": "code",
   "execution_count": 42,
   "metadata": {},
   "outputs": [
    {
     "name": "stderr",
     "output_type": "stream",
     "text": [
      "Map: 100%|██████████| 178/178 [00:00<00:00, 306.41 examples/s]it/s]\n",
      "Creating parquet from Arrow format: 100%|██████████| 2/2 [00:00<00:00,  4.14ba/s]\n",
      "Map: 100%|██████████| 177/177 [00:00<00:00, 242.51 examples/s]9, 39.74s/it]\n",
      "Creating parquet from Arrow format: 100%|██████████| 2/2 [00:00<00:00,  4.20ba/s]\n",
      "Uploading the dataset shards: 100%|██████████| 2/2 [01:21<00:00, 40.56s/it]\n"
     ]
    },
    {
     "data": {
      "text/plain": [
       "CommitInfo(commit_url='https://huggingface.co/datasets/yav1327/indian_songs/commit/04a1fd400191842a144c3b19a2653cc2f60b0028', commit_message='Upload dataset', commit_description='', oid='04a1fd400191842a144c3b19a2653cc2f60b0028', pr_url=None, repo_url=RepoUrl('https://huggingface.co/datasets/yav1327/indian_songs', endpoint='https://huggingface.co', repo_type='dataset', repo_id='yav1327/indian_songs'), pr_revision=None, pr_num=None)"
      ]
     },
     "execution_count": 42,
     "metadata": {},
     "output_type": "execute_result"
    }
   ],
   "source": [
    "dataset.push_to_hub(\"yav1327/indian_songs\")"
   ]
  },
  {
   "cell_type": "code",
   "execution_count": null,
   "metadata": {},
   "outputs": [],
   "source": []
  }
 ],
 "metadata": {
  "kernelspec": {
   "display_name": "music-env",
   "language": "python",
   "name": "python3"
  },
  "language_info": {
   "codemirror_mode": {
    "name": "ipython",
    "version": 3
   },
   "file_extension": ".py",
   "mimetype": "text/x-python",
   "name": "python",
   "nbconvert_exporter": "python",
   "pygments_lexer": "ipython3",
   "version": "3.10.12"
  }
 },
 "nbformat": 4,
 "nbformat_minor": 2
}
