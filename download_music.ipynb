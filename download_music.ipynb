{
 "cells": [
  {
   "cell_type": "code",
   "execution_count": 44,
   "metadata": {},
   "outputs": [],
   "source": [
    "import os\n",
    "import pandas as pd\n",
    "import librosa\n",
    "import soundfile as sf"
   ]
  },
  {
   "cell_type": "code",
   "execution_count": 46,
   "metadata": {},
   "outputs": [
    {
     "data": {
      "text/html": [
       "<div>\n",
       "<style scoped>\n",
       "    .dataframe tbody tr th:only-of-type {\n",
       "        vertical-align: middle;\n",
       "    }\n",
       "\n",
       "    .dataframe tbody tr th {\n",
       "        vertical-align: top;\n",
       "    }\n",
       "\n",
       "    .dataframe thead th {\n",
       "        text-align: right;\n",
       "    }\n",
       "</style>\n",
       "<table border=\"1\" class=\"dataframe\">\n",
       "  <thead>\n",
       "    <tr style=\"text-align: right;\">\n",
       "      <th></th>\n",
       "      <th>date</th>\n",
       "      <th>title</th>\n",
       "      <th>views</th>\n",
       "      <th>duration</th>\n",
       "      <th>author</th>\n",
       "      <th>thumbnail</th>\n",
       "      <th>url</th>\n",
       "      <th>video_id</th>\n",
       "    </tr>\n",
       "  </thead>\n",
       "  <tbody>\n",
       "    <tr>\n",
       "      <th>0</th>\n",
       "      <td>2022-05-03</td>\n",
       "      <td>Sajjad Ali - AATISH (Official Music Video)</td>\n",
       "      <td>343927</td>\n",
       "      <td>212</td>\n",
       "      <td>Sajjad Ali</td>\n",
       "      <td>https://i.ytimg.com/vi/Sj1GTMZJao8/hq720.jpg?s...</td>\n",
       "      <td>https://youtube.com/watch?v=Sj1GTMZJao8</td>\n",
       "      <td>Sj1GTMZJao8</td>\n",
       "    </tr>\n",
       "    <tr>\n",
       "      <th>1</th>\n",
       "      <td>2019-11-26</td>\n",
       "      <td>Sajjad Ali - RAVI (Official Video)</td>\n",
       "      <td>14153053</td>\n",
       "      <td>230</td>\n",
       "      <td>Sajjad Ali</td>\n",
       "      <td>https://i.ytimg.com/vi/rBk5EKHggKo/hq720.jpg?s...</td>\n",
       "      <td>https://youtube.com/watch?v=rBk5EKHggKo</td>\n",
       "      <td>rBk5EKHggKo</td>\n",
       "    </tr>\n",
       "    <tr>\n",
       "      <th>2</th>\n",
       "      <td>2020-02-10</td>\n",
       "      <td>Sajjad Ali - BAARISH (Official Video)</td>\n",
       "      <td>3658235</td>\n",
       "      <td>227</td>\n",
       "      <td>Sajjad Ali</td>\n",
       "      <td>https://i.ytimg.com/vi/D65OSWyqu5Q/hq720.jpg?s...</td>\n",
       "      <td>https://youtube.com/watch?v=D65OSWyqu5Q</td>\n",
       "      <td>D65OSWyqu5Q</td>\n",
       "    </tr>\n",
       "    <tr>\n",
       "      <th>3</th>\n",
       "      <td>2013-10-09</td>\n",
       "      <td>Sajjad Ali - Yaad  (Official Video)</td>\n",
       "      <td>5242879</td>\n",
       "      <td>235</td>\n",
       "      <td>Sajjad Ali</td>\n",
       "      <td>https://i.ytimg.com/vi/5fHHBe8GnKw/hq720.jpg?s...</td>\n",
       "      <td>https://youtube.com/watch?v=5fHHBe8GnKw</td>\n",
       "      <td>5fHHBe8GnKw</td>\n",
       "    </tr>\n",
       "    <tr>\n",
       "      <th>4</th>\n",
       "      <td>2022-06-07</td>\n",
       "      <td>Sajjad Ali - Door Gayon (Official Audio)</td>\n",
       "      <td>126933</td>\n",
       "      <td>275</td>\n",
       "      <td>Sajjad Ali</td>\n",
       "      <td>https://i.ytimg.com/vi/0m2OE68Dm-c/hq720.jpg?s...</td>\n",
       "      <td>https://youtube.com/watch?v=0m2OE68Dm-c</td>\n",
       "      <td>0m2OE68Dm-c</td>\n",
       "    </tr>\n",
       "  </tbody>\n",
       "</table>\n",
       "</div>"
      ],
      "text/plain": [
       "         date                                       title     views  duration  \\\n",
       "0  2022-05-03  Sajjad Ali - AATISH (Official Music Video)    343927       212   \n",
       "1  2019-11-26          Sajjad Ali - RAVI (Official Video)  14153053       230   \n",
       "2  2020-02-10       Sajjad Ali - BAARISH (Official Video)   3658235       227   \n",
       "3  2013-10-09         Sajjad Ali - Yaad  (Official Video)   5242879       235   \n",
       "4  2022-06-07    Sajjad Ali - Door Gayon (Official Audio)    126933       275   \n",
       "\n",
       "       author                                          thumbnail  \\\n",
       "0  Sajjad Ali  https://i.ytimg.com/vi/Sj1GTMZJao8/hq720.jpg?s...   \n",
       "1  Sajjad Ali  https://i.ytimg.com/vi/rBk5EKHggKo/hq720.jpg?s...   \n",
       "2  Sajjad Ali  https://i.ytimg.com/vi/D65OSWyqu5Q/hq720.jpg?s...   \n",
       "3  Sajjad Ali  https://i.ytimg.com/vi/5fHHBe8GnKw/hq720.jpg?s...   \n",
       "4  Sajjad Ali  https://i.ytimg.com/vi/0m2OE68Dm-c/hq720.jpg?s...   \n",
       "\n",
       "                                       url     video_id  \n",
       "0  https://youtube.com/watch?v=Sj1GTMZJao8  Sj1GTMZJao8  \n",
       "1  https://youtube.com/watch?v=rBk5EKHggKo  rBk5EKHggKo  \n",
       "2  https://youtube.com/watch?v=D65OSWyqu5Q  D65OSWyqu5Q  \n",
       "3  https://youtube.com/watch?v=5fHHBe8GnKw  5fHHBe8GnKw  \n",
       "4  https://youtube.com/watch?v=0m2OE68Dm-c  0m2OE68Dm-c  "
      ]
     },
     "execution_count": 46,
     "metadata": {},
     "output_type": "execute_result"
    }
   ],
   "source": [
    "df_music = pd.read_csv('indian_music_dataset.csv')\n",
    "df_music.head()"
   ]
  },
  {
   "cell_type": "code",
   "execution_count": 34,
   "metadata": {},
   "outputs": [],
   "source": [
    "ids = os.listdir('./indian_songs/')"
   ]
  },
  {
   "cell_type": "code",
   "execution_count": 27,
   "metadata": {},
   "outputs": [],
   "source": [
    "# import os\n",
    "# import re\n",
    "# mids = os.listdir('./indian_songs')\n",
    "# regex = r'^(\\d+)(_)([A-Za-z0-9]+)'\n",
    "# ids = []\n",
    "# for id_ in mids:\n",
    "#     match = re.match(regex, id_)\n",
    "#     if match:\n",
    "#         ids.append(match.group(3))"
   ]
  },
  {
   "cell_type": "code",
   "execution_count": 32,
   "metadata": {},
   "outputs": [],
   "source": [
    "# # Directory containing the files\n",
    "# directory = \"./indian_songs\"\n",
    "\n",
    "# # Iterate through the files in the directory\n",
    "# for filename in os.listdir(directory):\n",
    "#     for id_ in ids:\n",
    "#         if id_ in filename:  # Check if the ID is part of the filename\n",
    "#             # Construct the new filename\n",
    "#             new_filename = f\"{id_}.wav\"  # Example format; modify as needed\n",
    "#             old_path = os.path.join(directory, filename)\n",
    "#             new_path = os.path.join(directory, new_filename)\n",
    "            \n",
    "#             # Rename the file\n",
    "#             os.rename(old_path, new_path)\n",
    "#             break  # Avoid renaming the same file multiple times"
   ]
  },
  {
   "cell_type": "code",
   "execution_count": 30,
   "metadata": {},
   "outputs": [],
   "source": [
    "def split_audio(y, sr, duration=30):\n",
    "    segment_length = int(sr * duration)\n",
    "    return [y[i:i + segment_length] for i in range(0, len(y), segment_length)]"
   ]
  },
  {
   "cell_type": "code",
   "execution_count": 42,
   "metadata": {},
   "outputs": [],
   "source": [
    "def load_resample_split(id):\n",
    "    try: \n",
    "        y, sr = librosa.load(\"./indian_songs/\" + id, sr=None)\n",
    "        y = librosa.resample(y, orig_sr=sr, target_sr=44100)\n",
    "        y = librosa.effects.trim(y)[0]\n",
    "    \n",
    "\n",
    "        segments = split_audio(y, sr=44100)\n",
    "\n",
    "\n",
    "        # Save each segment\n",
    "        output_folder = 'split_audio/'  # Specify output folder\n",
    "\n",
    "        os.makedirs(output_folder, exist_ok=True)  # Create folder if it doesn't exist\n",
    "\n",
    "        for i, segment in enumerate(segments):\n",
    "            output_path = os.path.join(output_folder, f'{id}({i + 1}).wav')\n",
    "            sf.write(output_path, segment, 44100)  # Save the segment as a WAV file\n",
    "        print(f\"Saved: {output_path}\")\n",
    "    except:\n",
    "        print(\"Error resampling sound\")"
   ]
  },
  {
   "cell_type": "code",
   "execution_count": 43,
   "metadata": {},
   "outputs": [
    {
     "name": "stdout",
     "output_type": "stream",
     "text": [
      "Saved: split_audio/YSY.wav(1).wav\n",
      "Saved: split_audio/32_-DKd2gV88ik.wav(9).wav\n",
      "Saved: split_audio/oAxoZVIXnP0.wav(10).wav\n",
      "Error resampling sound\n"
     ]
    },
    {
     "name": "stderr",
     "output_type": "stream",
     "text": [
      "/var/folders/6d/ltzrn7zj535gpgr2_9hj9qn40000gn/T/ipykernel_11718/518765262.py:3: UserWarning: PySoundFile failed. Trying audioread instead.\n",
      "  y, sr = librosa.load(\"./indian_songs/\" + id, sr=None)\n"
     ]
    },
    {
     "name": "stdout",
     "output_type": "stream",
     "text": [
      "Saved: split_audio/by4USgMmICE.wav(9).wav\n",
      "Saved: split_audio/KidVKopnyZU.wav(3).wav\n",
      "Saved: split_audio/H3r2VAvsHC4.wav(8).wav\n",
      "Saved: split_audio/2xZAU.wav(9).wav\n",
      "Saved: split_audio/HonTSd3tRIU.wav(13).wav\n",
      "Saved: split_audio/8n.wav(2).wav\n",
      "Saved: split_audio/LAe6zwJojPg.wav(12).wav\n",
      "Saved: split_audio/gcVY.wav(2).wav\n",
      "Saved: split_audio/UyjWR8MXWU8.wav(14).wav\n",
      "Saved: split_audio/uklFr.wav(7).wav\n",
      "Saved: split_audio/PWXoxH4fpS0.wav(21).wav\n",
      "Saved: split_audio/mC3pjQaWimw.wav(9).wav\n",
      "Error resampling sound\n",
      "Saved: split_audio/mvy2dcYDwQ4.wav(9).wav\n",
      "Saved: split_audio/hv0ua.wav(12).wav\n",
      "Saved: split_audio/O7CISHZ4AX8.wav(9).wav\n",
      "Saved: split_audio/fX3M6B9nP3A.wav(3).wav\n",
      "Saved: split_audio/WbdXlJqTm.wav(9).wav\n",
      "Saved: split_audio/NCtr6zKDoX4.wav(9).wav\n",
      "Saved: split_audio/7QEYoo9M7F8.wav(9).wav\n",
      "Saved: split_audio/t3gmbHB.wav(4).wav\n",
      "Saved: split_audio/vv5AGs.wav(2).wav\n",
      "Saved: split_audio/U31AQyRA7tk.wav(1).wav\n",
      "Saved: split_audio/8xMH97CxGzY.wav(9).wav\n",
      "Saved: split_audio/tomYk5yjT5k.wav(10).wav\n",
      "Saved: split_audio/u0MjrLpZZqE.wav(61).wav\n",
      "Saved: split_audio/qt.wav(8).wav\n",
      "Saved: split_audio/IUhhHkbBYjM.wav(8).wav\n",
      "Error resampling sound\n",
      "Saved: split_audio/I0hTOvI.wav(16).wav\n",
      "Saved: split_audio/RgKAFK5djSk.wav(8).wav\n",
      "Saved: split_audio/t4Wjrssbob8.wav(6).wav\n",
      "Saved: split_audio/Nf6jQhBF5es.wav(6).wav\n",
      "Saved: split_audio/vbzPbsUmVrw.wav(10).wav\n",
      "Saved: split_audio/BRQ.wav(8).wav\n",
      "Saved: split_audio/YFDjc.wav(9).wav\n"
     ]
    }
   ],
   "source": [
    "for i in range(len(ids)):\n",
    "    load_resample_split(ids[i])"
   ]
  },
  {
   "cell_type": "code",
   "execution_count": null,
   "metadata": {},
   "outputs": [],
   "source": []
  }
 ],
 "metadata": {
  "kernelspec": {
   "display_name": "music-env",
   "language": "python",
   "name": "python3"
  },
  "language_info": {
   "codemirror_mode": {
    "name": "ipython",
    "version": 3
   },
   "file_extension": ".py",
   "mimetype": "text/x-python",
   "name": "python",
   "nbconvert_exporter": "python",
   "pygments_lexer": "ipython3",
   "version": "3.10.12"
  }
 },
 "nbformat": 4,
 "nbformat_minor": 2
}
